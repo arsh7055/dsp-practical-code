{
 "cells": [
  {
   "cell_type": "code",
   "execution_count": null,
   "metadata": {},
   "outputs": [],
   "source": [
    "import cv2 as c\n",
    "imgload = c.CascadeClassifier('C:/Users/owner/Downloads/opencv-master/data/haarcascades/haarcascade_frontalface_default.xml')\n",
    "img = c.imread('Desktop/IMG-20200210-WA0006.jpg')\n",
    "\n",
    "face = imgload.detectMultiScale(img, 1.1, 4)\n",
    "\n",
    "for (a,b,c,d) in face:\n",
    "    c.rectangle(img, (a, b), (a+c, b + d), (255, 0, 0), 2)\n",
    "    if c.waitKey(1)==32:\n",
    "            break\n",
    "\n",
    "print(len(faces))\n",
    "\n",
    "c.imshow('img', img)\n",
    "c.waitKey(0)\n",
    "c.destroyAllWindows()"
   ]
  },
  {
   "cell_type": "code",
   "execution_count": null,
   "metadata": {},
   "outputs": [],
   "source": [
    "import cv2 as c\n",
    "\n",
    "imgload = c.imread('Desktop/IMG-20200210-WA0001.jpg')\n",
    "\n",
    "imgload[:,:,0]=imgload[:,:,0]*-1\n",
    "imgload[:,:,1]=imgload[:,:,1]*-1\n",
    "imgload[:,:,2]=imgload[:,:,2]*-1\n",
    "\n",
    "\n",
    "\n",
    "c.imshow('img', imgload)\n",
    "c.waitKey(0)\n",
    "c.destroyAllWindows()\n",
    "\n",
    "\n"
   ]
  },
  {
   "cell_type": "code",
   "execution_count": null,
   "metadata": {},
   "outputs": [],
   "source": [
    "import cv2 as c\n",
    " \n",
    "imgload = c.imread('Desktop/IMG-20200210-WA0001.jpg')\n",
    "gray = c.cvtColor(imgload, cv2.COLOR_BGR2GRAY)\n",
    "\n",
    "#dir(c)\n",
    "z = c.threshold(grayimg, 120, 230, c.THRESH_BINARY)\n",
    "\n",
    "\n",
    "c.imshow('Original image',originalImage)\n",
    "\n",
    "c.imshow('Black white image', blackAndWhiteImage)\n",
    "\n",
    "c.imshow('Gray image', grayImage)\n",
    "\n",
    "img[:,:,1] = 0\n",
    "img[:,:,2] = 0\n",
    "c.imshow('blue', img)\n",
    " \n",
    "c.waitKey(0)\n",
    "c.destroyAllWindows()\n"
   ]
  }
 ],
 "metadata": {
  "kernelspec": {
   "display_name": "Python 3",
   "language": "python",
   "name": "python3"
  },
  "language_info": {
   "codemirror_mode": {
    "name": "ipython",
    "version": 3
   },
   "file_extension": ".py",
   "mimetype": "text/x-python",
   "name": "python",
   "nbconvert_exporter": "python",
   "pygments_lexer": "ipython3",
   "version": "3.7.4"
  }
 },
 "nbformat": 4,
 "nbformat_minor": 2
}
